{
 "cells": [
  {
   "cell_type": "markdown",
   "id": "e873f7e9-3736-4003-9231-41dfc4bd9434",
   "metadata": {},
   "source": [
    "# ACS Flash Report Project <br>\n",
    "Based on updated data (October 4th 2024)."
   ]
  },
  {
   "cell_type": "markdown",
   "id": "10b5c741-47ca-44aa-9434-c5d3e3097969",
   "metadata": {},
   "source": [
    "Dataset and data definitions can be found here: <br>\n",
    "https://data.cityofnewyork.us/City-Government/Monthly-Flash-Report-indicators/2ubh-v9er/about_data"
   ]
  },
  {
   "cell_type": "markdown",
   "id": "113df69c-2c02-4f45-94ef-71f9da538078",
   "metadata": {},
   "source": [
    "The Flash report provides monthly performance data on key ACS child welfare, child care, and juvenile justice functions such as children using vouchers for child care, child protective caseloads, and the number of admissions to detention. Each row of data in the Excel file posted to Open Data is a distinct measure in the Flash Report.The columns are the month of the data. Data are updated semiannually in September and April using data from queries of administrative data systems and data provided directly from program areas."
   ]
  },
  {
   "cell_type": "markdown",
   "id": "625333ec-2e72-42bb-bd53-7efc6a646123",
   "metadata": {},
   "source": [
    "This project focuses on Juvenile Justice and detention rates of youth"
   ]
  },
  {
   "cell_type": "markdown",
   "id": "e8f9adb8-2311-4e23-954e-11569a053347",
   "metadata": {},
   "source": [
    "## Import Libraries and Dataset"
   ]
  },
  {
   "cell_type": "code",
   "execution_count": 9,
   "id": "455c11ae-f9e7-4dd7-a6bd-2515eb7aea67",
   "metadata": {},
   "outputs": [],
   "source": [
    "import pandas as pd\n",
    "import matplotlib.pyplot as plt\n",
    "import seaborn as sns"
   ]
  },
  {
   "cell_type": "code",
   "execution_count": null,
   "id": "f6f45c73-aa90-4f86-9851-4100cb43a0c9",
   "metadata": {},
   "outputs": [],
   "source": []
  }
 ],
 "metadata": {
  "kernelspec": {
   "display_name": "Python 3 (ipykernel)",
   "language": "python",
   "name": "python3"
  },
  "language_info": {
   "codemirror_mode": {
    "name": "ipython",
    "version": 3
   },
   "file_extension": ".py",
   "mimetype": "text/x-python",
   "name": "python",
   "nbconvert_exporter": "python",
   "pygments_lexer": "ipython3",
   "version": "3.12.4"
  }
 },
 "nbformat": 4,
 "nbformat_minor": 5
}
